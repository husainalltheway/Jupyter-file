{
 "cells": [
  {
   "cell_type": "markdown",
   "id": "fc9a192b-3eec-46c4-92e0-51a13f6f12de",
   "metadata": {},
   "source": [
    "# Data Science Tools and Ecosystem"
   ]
  },
  {
   "cell_type": "markdown",
   "id": "f755d7c8-bee8-4b20-9629-dade9b082578",
   "metadata": {},
   "source": [
    "In this notebook, Data Science Tools and Ecosystem are summarized."
   ]
  },
  {
   "cell_type": "markdown",
   "id": "392458a5-bed5-40f4-87c5-de87bae2081f",
   "metadata": {},
   "source": [
    "### Objectives:\n",
    "- Popular languages that Data Scientists use\n",
    "- Commonly used libraries used by Data Scientists\n",
    "- Famous Data Science tools"
   ]
  },
  {
   "cell_type": "markdown",
   "id": "a643882a-36bc-4829-84d0-7fd07e42ab54",
   "metadata": {},
   "source": [
    "> Some of the popular languages that Data Scientists use are:\n",
    "- Python\n",
    "- Java \n",
    "- R\n",
    "- C++"
   ]
  },
  {
   "cell_type": "markdown",
   "id": "0ed8ca9c-2454-4541-aff3-760310fd604f",
   "metadata": {},
   "source": [
    "> Some of the commonly used libraries used by Data Scientists include:\n",
    "- Numpy\n",
    "- Pandas\n",
    "- Seaborn\n",
    "- Matplotlib\n",
    "- PyTorch\n",
    "- Keras"
   ]
  },
  {
   "cell_type": "markdown",
   "id": "4dce3407-5d7a-48ea-80b6-65ab8c635582",
   "metadata": {},
   "source": [
    "> Following are the Data Science tools\n",
    "\n",
    "| Data Science Tools |\n",
    "|--------------------|\n",
    "| Jupyter Notebook |\n",
    "| Apache Hadoop |\n",
    "| Tableau |\n",
    "| Power BI |"
   ]
  },
  {
   "cell_type": "markdown",
   "id": "dddbbf92-efff-4ebc-83bc-e483668a46fa",
   "metadata": {},
   "source": [
    "### Below are a few examples of evaluating arithmetic expressions in Python"
   ]
  },
  {
   "cell_type": "code",
   "execution_count": 2,
   "id": "f14993da-1f75-4841-9c1b-88ce0e45ccc7",
   "metadata": {
    "tags": []
   },
   "outputs": [
    {
     "data": {
      "text/plain": [
       "17"
      ]
     },
     "execution_count": 2,
     "metadata": {},
     "output_type": "execute_result"
    }
   ],
   "source": [
    "# This a simple arithmetic expression to mutiply then add integers\n",
    "(3*4)+5"
   ]
  },
  {
   "cell_type": "code",
   "execution_count": 6,
   "id": "93e1a094-1f35-4bd5-9496-53f6b437e150",
   "metadata": {
    "tags": []
   },
   "outputs": [
    {
     "name": "stdout",
     "output_type": "stream",
     "text": [
      "3.3333333333333335\n"
     ]
    }
   ],
   "source": [
    "# This will convert 200 minutes to hours by diving by 60\n",
    "minutes = 200\n",
    "minutes_per_hour = 60\n",
    "total_hours = minutes/minutes_per_hour\n",
    "print(total_hours)"
   ]
  },
  {
   "cell_type": "markdown",
   "id": "e90d3dc1-82a8-4267-b440-201f67a80033",
   "metadata": {
    "tags": []
   },
   "source": [
    "## Author\n",
    "Khalid Husain"
   ]
  }
 ],
 "metadata": {
  "kernelspec": {
   "display_name": "Python",
   "language": "python",
   "name": "conda-env-python-py"
  },
  "language_info": {
   "codemirror_mode": {
    "name": "ipython",
    "version": 3
   },
   "file_extension": ".py",
   "mimetype": "text/x-python",
   "name": "python",
   "nbconvert_exporter": "python",
   "pygments_lexer": "ipython3",
   "version": "3.7.12"
  }
 },
 "nbformat": 4,
 "nbformat_minor": 5
}
